{
 "cells": [
  {
   "cell_type": "code",
   "execution_count": 117,
   "metadata": {
    "collapsed": true
   },
   "outputs": [],
   "source": [
    "import numpy as np\n",
    "import math\n",
    "import matplotlib.pyplot as plt\n",
    "import seaborn as sns"
   ]
  },
  {
   "cell_type": "markdown",
   "metadata": {},
   "source": [
    "### Exercise 4.7\n",
    "\n",
    "Write a program for policy iteration and re-solve Jack’s car\n",
    "rental problem with the following changes. One of Jack’s employees at the first location\n",
    "rides a bus home each night and lives near the second location. She is happy to shuttle\n",
    "one car to the second location for free. Each additional car still costs £2, as do all cars\n",
    "moved in the other direction. In addition, Jack has limited parking space at each location.\n",
    "If more than 10 cars are kept overnight at a location (after any moving of cars), then an\n",
    "additional cost of £4 must be incurred to use a second parking lot (independent of how\n",
    "many cars are kept there). These sorts of nonlinearities and arbitrary dynamics often\n",
    "occur in real problems and cannot easily be handled by optimization methods other than\n",
    "dynamic programming. To check your program, first replicate the results given for the\n",
    "original problem."
   ]
  },
  {
   "cell_type": "markdown",
   "metadata": {},
   "source": [
    "### Define functions"
   ]
  },
  {
   "cell_type": "code",
   "execution_count": 140,
   "metadata": {
    "collapsed": true
   },
   "outputs": [],
   "source": [
    "def policy_iteration(rental_fee=10, \n",
    "                     move_cost=2, \n",
    "                     lam_rental=(3, 4),\n",
    "                     lam_return=(3, 2),\n",
    "                     max_cars=20, \n",
    "                     max_move=5,\n",
    "                     free_moves=(0, 1),\n",
    "                     max_capacity=10,\n",
    "                     extra_capacity_cost=4,\n",
    "                     gamma=0.9, \n",
    "                     theta=0.1,\n",
    "                     ):\n",
    "    \n",
    "    # initialise value function and policy\n",
    "    V, pi = initialisation(max_cars)\n",
    "    \n",
    "    policy_stable = False\n",
    "    it = 1\n",
    "    while not policy_stable:\n",
    "    \n",
    "        print('Running iteration {} of policy evaluation...'.format(it))\n",
    "    \n",
    "        # evaluate policy\n",
    "        policy_evaluation(V, pi, rental_fee, move_cost,\n",
    "                          lam_rental, lam_return, \n",
    "                          max_cars, max_move, free_moves, \n",
    "                          max_capacity, extra_capacity_cost,\n",
    "                          gamma, theta)\n",
    "        \n",
    "        print('Running iteration {} of policy improvement...'.format(it))\n",
    "    \n",
    "        # improve policy\n",
    "        V, pi, policy_stable = policy_improvement(V, pi, rental_fee, move_cost,\n",
    "                                                  lam_rental, lam_return, \n",
    "                                                  max_cars, max_move, free_moves, \n",
    "                                                  max_capacity, extra_capacity_cost,\n",
    "                                                  gamma, theta)\n",
    "        \n",
    "        it += 1\n",
    "        print('-' * 50)\n",
    "    \n",
    "    print('Policy stable')\n",
    "\n",
    "    return V, pi\n",
    "    \n",
    "    \n",
    "def initialisation(max_cars):\n",
    "    \n",
    "    # the states are the number of cars at each of the two locations, between 0 and 20\n",
    "    # initialise the value of all states as 0\n",
    "    V = {(cars_1, cars_2): 0 for cars_1 in range(max_cars + 1) \n",
    "                                      for cars_2 in range(max_cars + 1)}\n",
    "    \n",
    "    # the actions are the net number of cars moved from location 1 to location 2 overnight\n",
    "    # initialise the actions of all states as 0\n",
    "    pi = {s: 0 for s in V.keys()}\n",
    "\n",
    "    return V, pi\n",
    "    \n",
    "    \n",
    "def policy_evaluation(V, pi, rental_fee, move_cost, \n",
    "                      lam_rental, lam_return, \n",
    "                      max_cars, max_move, free_moves, \n",
    "                      max_capacity, extra_capacity_cost,\n",
    "                      gamma, theta):\n",
    "    \n",
    "    delta = theta + 1\n",
    "    \n",
    "    # until accuracy of estimation is met...\n",
    "    while delta > theta:\n",
    "        \n",
    "        delta = 0\n",
    "        \n",
    "        # for each state...\n",
    "        for s, v in V.items():\n",
    "            \n",
    "            # update V(s)\n",
    "            V[s] = expected_return(V, s, pi[s], rental_fee, move_cost, \n",
    "                                   lam_rental, lam_return, \n",
    "                                   max_cars, max_move, free_moves, \n",
    "                                   max_capacity, extra_capacity_cost, \n",
    "                                   gamma)\n",
    "            \n",
    "            # update delta\n",
    "            delta = max(delta, abs(v - V[s]))\n",
    "            \n",
    "    return V\n",
    "\n",
    "  \n",
    "def policy_improvement(V, pi, rental_fee, move_cost,\n",
    "                       lam_rental, lam_return, \n",
    "                       max_cars, max_move, free_moves, \n",
    "                       max_capacity, extra_capacity_cost,\n",
    "                       gamma, theta):\n",
    "    \n",
    "    delta = 0\n",
    "    \n",
    "    # for each state...\n",
    "    for s, v in V.items():\n",
    "        \n",
    "        old_action = pi[s]\n",
    "        cars_1 = s[0]\n",
    "        cars_2 = s[1]\n",
    "\n",
    "        # compute value of each possible action\n",
    "        n1 = min(min(max_move, cars_2), max_cars - cars_1)        \n",
    "        n2 = min(min(max_move, cars_1), max_cars - cars_2)\n",
    "        possible_actions = np.arange(-n1, n2 + 1)\n",
    "        action_values = [expected_return(V, s, a, rental_fee, move_cost, \n",
    "                                         lam_rental, lam_return, \n",
    "                                         max_cars, max_move, free_moves, \n",
    "                                         max_capacity, extra_capacity_cost, \n",
    "                                         gamma) \n",
    "                         for a in possible_actions]\n",
    "        \n",
    "        # get the best action and its value\n",
    "        i_max = np.argmax(action_values)\n",
    "        best_action = possible_actions[i_max]\n",
    "        new_v = action_values[i_max]\n",
    "        \n",
    "        # update policy\n",
    "        pi[s] = best_action\n",
    "        \n",
    "        # update delta\n",
    "        delta = max(delta, new_v - v)\n",
    "        \n",
    "    # stable?\n",
    "    if delta > theta:\n",
    "        policy_stable = False\n",
    "    else:\n",
    "        policy_stable = True\n",
    "                      \n",
    "    return V, pi, policy_stable\n",
    "\n",
    "\n",
    "def expected_return(V, s, a, rental_fee, move_cost, \n",
    "                    lam_rental, lam_return, \n",
    "                    max_cars, max_move, free_moves, \n",
    "                    max_capacity, extra_capacity_cost,\n",
    "                    gamma):\n",
    "    \n",
    "    # compute the cost of moving the cars\n",
    "    n = abs(a)\n",
    "    if a > 0:\n",
    "        n = max(0, n - free_moves[1])\n",
    "    elif a < 0:\n",
    "        n = max(0, n - free_moves[0])   \n",
    "    cost = move_cost * n \n",
    "\n",
    "    # compute the number of cars at each location at the start of the next day\n",
    "    cars_1 = min(s[0] - a, max_cars)\n",
    "    cars_2 = min(s[1] + a, max_cars)\n",
    "    \n",
    "    # compute the extra capacity costs at each location\n",
    "    extra_cost_1 = extra_capacity_cost if cars_1 > max_capacity else 0\n",
    "    extra_cost_2 = extra_capacity_cost if cars_2 > max_capacity else 0\n",
    "\n",
    "    # for n = 0 to cars_1, compute the probability that n cars \n",
    "    # are rented from location 1 the next day \n",
    "    p_rentals_1 = prob_rentals(cars_1, lam_rental[0])\n",
    "\n",
    "    # do the same for location 2\n",
    "    p_rentals_2 = prob_rentals(cars_2, lam_rental[1])\n",
    "\n",
    "    # compute the expected rental fees for the next day at each location\n",
    "    exp_rent_1 = expected_rent(p_rentals_1, rental_fee)\n",
    "    exp_rent_2 = expected_rent(p_rentals_2, rental_fee)\n",
    "\n",
    "    # expected immediate reward is expected rental fees - costs\n",
    "    exp_immediate_reward = (exp_rent_1 + exp_rent_2) - (cost + extra_cost_1 + extra_cost_2)\n",
    "\n",
    "    # for n = 0 to max_cars, compute the probability that n cars\n",
    "    # are returned to location 1 during the next day\n",
    "    p_returns_1 = prob_returns(max_cars, lam_return[0])\n",
    "\n",
    "    # do the same for location 2\n",
    "    p_returns_2 = prob_returns(max_cars, lam_return[1])\n",
    "\n",
    "    # for n = 0 to 20, compute the probability that there are \n",
    "    # n cars at location 1 at the end of the next day\n",
    "    p_cars_1 = prob_cars_next_day(cars_1, p_rentals_1, p_returns_1, max_cars)\n",
    "\n",
    "    # do the same for location 2\n",
    "    p_cars_2 = prob_cars_next_day(cars_2, p_rentals_2, p_returns_2, max_cars)\n",
    "\n",
    "    # compute the expected future reward\n",
    "    x = [V[(cars_1, cars_2)] * p1 * p2 for cars_1, p1 in enumerate(p_cars_1)\n",
    "                                       for cars_2, p2 in enumerate(p_cars_2)]\n",
    "    exp_future_reward = gamma * sum(x)\n",
    "\n",
    "    # compute expected return\n",
    "    exp_return = exp_immediate_reward + exp_future_reward\n",
    "    \n",
    "    return exp_return\n",
    "            \n",
    "                \n",
    "def prob_rentals(cars, lam):\n",
    "    \n",
    "    p_rentals = np.zeros(cars + 1)\n",
    "    for n in range(cars):\n",
    "        p_rentals[n] = poisson(n, lam)\n",
    "    p_rentals[-1] = 1 - p_rentals[:-1].sum()\n",
    "    \n",
    "    return p_rentals\n",
    "\n",
    "\n",
    "def prob_returns(max_cars, lam):\n",
    "    \n",
    "    p_returns = np.zeros(max_cars + 1)\n",
    "    for n in range(max_cars):\n",
    "        p_returns[n] = poisson(n, lam)\n",
    "    p_returns[-1] = 1 - p_returns[:-1].sum()\n",
    "    \n",
    "    return p_returns\n",
    "\n",
    "\n",
    "def prob_cars_next_day(cars_current, p_rentals, p_returns, max_cars):\n",
    "    \n",
    "    p_cars = np.zeros(max_cars + 1)\n",
    "    for rentals, p_rental in enumerate(p_rentals):\n",
    "        for returns, p_return in enumerate(p_returns):\n",
    "            cars_next = min(cars_current - rentals + returns, max_cars)\n",
    "            p_cars[cars_next] += p_rental * p_return \n",
    "            \n",
    "    return p_cars\n",
    "    \n",
    "\n",
    "def expected_rent(p_rentals, rental_fee):\n",
    "    r = (p_rentals * np.arange(len(p_rentals))).sum() * rental_fee\n",
    "    return r\n",
    "    \n",
    "    \n",
    "def poisson(n, lam):    \n",
    "    return ((lam ** n) / math.factorial(n)) * np.exp(-lam)"
   ]
  },
  {
   "cell_type": "markdown",
   "metadata": {},
   "source": [
    "### Run policy iteration for the original problem"
   ]
  },
  {
   "cell_type": "code",
   "execution_count": 141,
   "metadata": {},
   "outputs": [
    {
     "name": "stdout",
     "output_type": "stream",
     "text": [
      "Running iteration 1 of policy evaluation...\n",
      "Running iteration 1 of policy improvement...\n",
      "--------------------------------------------------\n",
      "Running iteration 2 of policy evaluation...\n",
      "Running iteration 2 of policy improvement...\n",
      "--------------------------------------------------\n",
      "Running iteration 3 of policy evaluation...\n",
      "Running iteration 3 of policy improvement...\n",
      "--------------------------------------------------\n",
      "Running iteration 4 of policy evaluation...\n",
      "Running iteration 4 of policy improvement...\n",
      "--------------------------------------------------\n",
      "Policy stable\n"
     ]
    }
   ],
   "source": [
    "V, pi = policy_iteration(free_moves=(0, 0),\n",
    "                         max_capacity=20,\n",
    "                         extra_capacity_cost=0)"
   ]
  },
  {
   "cell_type": "markdown",
   "metadata": {},
   "source": [
    "### Convert policy and value functions to matrices"
   ]
  },
  {
   "cell_type": "code",
   "execution_count": 142,
   "metadata": {
    "collapsed": true
   },
   "outputs": [],
   "source": [
    "V_mat = np.zeros((21, 21))\n",
    "pi_mat = np.zeros((21, 21))\n",
    "for s, a in pi.items():\n",
    "    V_mat[s[0], s[1]] = V[s]\n",
    "    pi_mat[s[0], s[1]] = a"
   ]
  },
  {
   "cell_type": "markdown",
   "metadata": {},
   "source": [
    "### Plot the policy"
   ]
  },
  {
   "cell_type": "code",
   "execution_count": 143,
   "metadata": {},
   "outputs": [
    {
     "data": {
      "image/png": "[encoded data removed]",
      "text/plain": [
       "<Figure size 864x576 with 2 Axes>"
      ]
     },
     "metadata": {
      "needs_background": "light"
     },
     "output_type": "display_data"
    }
   ],
   "source": [
    "plt.figure(figsize=(12, 8))\n",
    "sns.heatmap(pi_mat, linewidth=0.5)\n",
    "plt.ylabel('Cars at first location')\n",
    "plt.xlabel('Cars at second location')\n",
    "plt.title('Policy')\n",
    "plt.show()"
   ]
  },
  {
   "cell_type": "markdown",
   "metadata": {},
   "source": [
    "### Plot the value function"
   ]
  },
  {
   "cell_type": "code",
   "execution_count": 144,
   "metadata": {},
   "outputs": [
    {
     "data": {
      "image/png": "[encoded data removed]",
      "text/plain": [
       "<Figure size 864x576 with 2 Axes>"
      ]
     },
     "metadata": {
      "needs_background": "light"
     },
     "output_type": "display_data"
    }
   ],
   "source": [
    "plt.figure(figsize=(12, 8))\n",
    "sns.heatmap(V_mat, linewidth=0.5)\n",
    "plt.ylabel('Cars at first location')\n",
    "plt.xlabel('Cars at second location')\n",
    "plt.title('Value Function')\n",
    "plt.show()"
   ]
  },
  {
   "cell_type": "markdown",
   "metadata": {},
   "source": [
    "### They appear to agree with the plots in the book"
   ]
  },
  {
   "cell_type": "markdown",
   "metadata": {},
   "source": [
    "### Run policy iteration for the new problem"
   ]
  },
  {
   "cell_type": "code",
   "execution_count": 145,
   "metadata": {},
   "outputs": [
    {
     "name": "stdout",
     "output_type": "stream",
     "text": [
      "Running iteration 1 of policy evaluation...\n",
      "Running iteration 1 of policy improvement...\n",
      "--------------------------------------------------\n",
      "Running iteration 2 of policy evaluation...\n",
      "Running iteration 2 of policy improvement...\n",
      "--------------------------------------------------\n",
      "Running iteration 3 of policy evaluation...\n",
      "Running iteration 3 of policy improvement...\n",
      "--------------------------------------------------\n",
      "Running iteration 4 of policy evaluation...\n",
      "Running iteration 4 of policy improvement...\n",
      "--------------------------------------------------\n",
      "Policy stable\n"
     ]
    }
   ],
   "source": [
    "V, pi = policy_iteration(free_moves=(0, 1),\n",
    "                         max_capacity=10,\n",
    "                         extra_capacity_cost=4)"
   ]
  },
  {
   "cell_type": "markdown",
   "metadata": {},
   "source": [
    "### Convert policy and value functions to matrices"
   ]
  },
  {
   "cell_type": "code",
   "execution_count": 146,
   "metadata": {
    "collapsed": true
   },
   "outputs": [],
   "source": [
    "V_mat = np.zeros((21, 21))\n",
    "pi_mat = np.zeros((21, 21))\n",
    "for s, a in pi.items():\n",
    "    V_mat[s[0], s[1]] = V[s]\n",
    "    pi_mat[s[0], s[1]] = a"
   ]
  },
  {
   "cell_type": "markdown",
   "metadata": {},
   "source": [
    "### Plot the policy"
   ]
  },
  {
   "cell_type": "code",
   "execution_count": 147,
   "metadata": {},
   "outputs": [
    {
     "data": {
      "image/png": "[encoded data removed]",
      "text/plain": [
       "<Figure size 864x576 with 2 Axes>"
      ]
     },
     "metadata": {
      "needs_background": "light"
     },
     "output_type": "display_data"
    }
   ],
   "source": [
    "plt.figure(figsize=(12, 8))\n",
    "sns.heatmap(pi_mat, linewidth=0.5)\n",
    "plt.ylabel('Cars at first location')\n",
    "plt.xlabel('Cars at second location')\n",
    "plt.title('Policy')\n",
    "plt.show()"
   ]
  },
  {
   "cell_type": "markdown",
   "metadata": {},
   "source": [
    "### Plot the value function"
   ]
  },
  {
   "cell_type": "code",
   "execution_count": 148,
   "metadata": {},
   "outputs": [
    {
     "data": {
      "image/png": "[encoded data removed]",
      "text/plain": [
       "<Figure size 864x576 with 2 Axes>"
      ]
     },
     "metadata": {
      "needs_background": "light"
     },
     "output_type": "display_data"
    }
   ],
   "source": [
    "plt.figure(figsize=(12, 8))\n",
    "sns.heatmap(V_mat, linewidth=0.5)\n",
    "plt.ylabel('Cars at first location')\n",
    "plt.xlabel('Cars at second location')\n",
    "plt.title('Value Function')\n",
    "plt.show()"
   ]
  },
  {
   "cell_type": "code",
   "execution_count": null,
   "metadata": {
    "collapsed": true
   },
   "outputs": [],
   "source": []
  }
 ],
 "metadata": {
  "kernelspec": {
   "display_name": "Python 3",
   "language": "python",
   "name": "python3"
  },
  "language_info": {
   "codemirror_mode": {
    "name": "ipython",
    "version": 3
   },
   "file_extension": ".py",
   "mimetype": "text/x-python",
   "name": "python",
   "nbconvert_exporter": "python",
   "pygments_lexer": "ipython3",
   "version": "3.6.1"
  }
 },
 "nbformat": 4,
 "nbformat_minor": 2
}
