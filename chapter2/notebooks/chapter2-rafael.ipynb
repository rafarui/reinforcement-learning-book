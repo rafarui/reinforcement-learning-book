{
 "cells": [
  {
   "cell_type": "code",
   "execution_count": 1,
   "metadata": {},
   "outputs": [],
   "source": [
    "import matplotlib.pyplot as plt\n",
    "import numpy as np\n",
    "from joblib import Parallel, delayed\n",
    "\n",
    "import sys\n",
    "sys.path.insert(0, '../code/')\n",
    "from k_armed_bandit import KArmedBandit\n",
    "\n",
    "%matplotlib inline \n",
    "%load_ext autoreload\n",
    "%autoreload 2"
   ]
  },
  {
   "cell_type": "markdown",
   "metadata": {},
   "source": [
    "# Exercise 2.5\n",
    "\n",
    "Design and conduct an experiment to demonstrate the difficulties that sample-average methods have for nonstationary problems. Use a modified version of the 10-armed testbed in which all the $q_*(a)$ start out equal and then take independent random walks (say by adding a normally distributed increment with mean zero and standard deviation 0.01 to all the $q_*(a)$ on each step). Prepare plots like Figure 2.2 for an action-value method using sample averages, incrementally computed, and another action-value method using a constant step-size parameter, $\\alpha = 0.1$. Use $\\epsilon = 0.1$ and longer runs, say of 10,000 steps."
   ]
  },
  {
   "cell_type": "code",
   "execution_count": null,
   "metadata": {},
   "outputs": [
    {
     "name": "stdout",
     "output_type": "stream",
     "text": [
      "0\n"
     ]
    }
   ],
   "source": [
    "n_jobs=3\n",
    "verbose=0\n",
    "alpha=\"1/n\"\n",
    "epsilons=[0.1]\n",
    "runs=2000\n",
    "epochs=10000\n",
    "k_arms=10\n",
    "init_deterministic=True\n",
    "increment_mu=0\n",
    "increment_sigma=0.01\n",
    "def run(k_arms, runs, epochs, alpha, epsilons, init_deterministic, \n",
    "        increment_mu, increment_sigma, n_jobs=4, verbose=1):\n",
    "    \n",
    "    results = {}\n",
    "    for i, epsilon in enumerate(epsilons):\n",
    "        print(\"{}\".format(i))\n",
    "        list_of_runs = Parallel(n_jobs=n_jobs, verbose=verbose)(\n",
    "            delayed(KArmedBandit(k_arms=k_arms, \n",
    "                                 alpha=alpha,\n",
    "                                 epsilon=epsilon,\n",
    "                                 prior_estimation=0., \n",
    "                                 true_reward=0.,\n",
    "                                 init_deterministic=init_deterministic,\n",
    "                                 increment_mu=increment_mu,\n",
    "                                 increment_sigma=increment_sigma).simulate)(epochs=epochs)\n",
    "            for _ in range(runs))\n",
    "        #compute avg rewards\n",
    "        results[epsilon] = np.array(list_of_runs)\n",
    "    return results\n",
    "\n",
    "results =  run(k_arms=k_arms, runs=runs, epochs=epochs, alpha=alpha, epsilons=epsilons, \n",
    "               init_deterministic=init_deterministic, increment_mu=increment_mu, \n",
    "               increment_sigma=increment_sigma, n_jobs=n_jobs, verbose=verbose)"
   ]
  },
  {
   "cell_type": "markdown",
   "metadata": {
    "collapsed": true
   },
   "source": [
    "### Run experiments using sample averaging"
   ]
  },
  {
   "cell_type": "code",
   "execution_count": null,
   "metadata": {},
   "outputs": [],
   "source": [
    "plt.figure(figsize=(10, 20))\n",
    "\n",
    "plt.subplot(2, 1, 1)\n",
    "for epsilon in epsilons:\n",
    "    rewards = results.get(epsilon)[:,:,0].mean(axis=0)\n",
    "    plt.plot(rewards, label='epsilon = %.02f' % (epsilon))\n",
    "plt.xlabel('steps')\n",
    "plt.ylabel('average reward')\n",
    "plt.legend()\n",
    "\n",
    "plt.subplot(2, 1, 2)\n",
    "for epsilon in epsilons:\n",
    "    best_action_counts = results.get(epsilon)[:,:,1].mean(axis=0)\n",
    "    plt.plot(best_action_counts, label='epsilon = %.02f' % (epsilon))\n",
    "plt.xlabel('steps')\n",
    "plt.ylabel('% optimal action')\n",
    "plt.legend()"
   ]
  },
  {
   "cell_type": "markdown",
   "metadata": {},
   "source": [
    "### Run experiments using constant step-size of 0.1"
   ]
  },
  {
   "cell_type": "code",
   "execution_count": null,
   "metadata": {},
   "outputs": [],
   "source": [
    "n_jobs=12\n",
    "verbose=0\n",
    "alpha=0.1\n",
    "epsilons=[0.1]\n",
    "runs=2000\n",
    "epochs=10000\n",
    "k_arms=10\n",
    "init_deterministic=True\n",
    "increment_mu=0\n",
    "increment_sigma=0.01\n",
    "def run(k_arms, runs, epochs, alpha, epsilons, init_deterministic, \n",
    "        increment_mu, increment_sigma, n_jobs=4, verbose=1):\n",
    "    \n",
    "    results = {}\n",
    "    for i, epsilon in enumerate(epsilons):\n",
    "        print(\"{}\".format(i))\n",
    "        list_of_runs = Parallel(n_jobs=n_jobs, verbose=verbose)(\n",
    "            delayed(KArmedBandit(k_arms=k_arms, \n",
    "                                 alpha=alpha,\n",
    "                                 epsilon=epsilon,\n",
    "                                 prior_estimation=0., \n",
    "                                 true_reward=0.,\n",
    "                                 init_deterministic=init_deterministic,\n",
    "                                 increment_mu=increment_mu,\n",
    "                                 increment_sigma=increment_sigma).simulate)(epochs=epochs)\n",
    "            for _ in range(runs))\n",
    "        #compute avg rewards\n",
    "        results[epsilon] = np.array(list_of_runs)\n",
    "    return results\n",
    "\n",
    "results =  run(k_arms=k_arms, runs=runs, epochs=epochs, alpha=alpha, epsilons=epsilons, \n",
    "               init_deterministic=init_deterministic, increment_mu=increment_mu, \n",
    "               increment_sigma=increment_sigma, n_jobs=n_jobs, verbose=verbose)"
   ]
  },
  {
   "cell_type": "code",
   "execution_count": null,
   "metadata": {
    "scrolled": true
   },
   "outputs": [],
   "source": [
    "plt.figure(figsize=(10, 20))\n",
    "\n",
    "plt.subplot(2, 1, 1)\n",
    "for epsilon in epsilons:\n",
    "    rewards = results.get(epsilon)[:,:,0].mean(axis=0)\n",
    "    plt.plot(rewards, label='epsilon = %.02f' % (epsilon))\n",
    "plt.xlabel('steps')\n",
    "plt.ylabel('average reward')\n",
    "plt.legend()\n",
    "\n",
    "plt.subplot(2, 1, 2)\n",
    "for epsilon in epsilons:\n",
    "    best_action_counts = results.get(epsilon)[:,:,1].mean(axis=0)\n",
    "    plt.plot(best_action_counts, label='epsilon = %.02f' % (epsilon))\n",
    "plt.xlabel('steps')\n",
    "plt.ylabel('% optimal action')\n",
    "plt.legend()"
   ]
  },
  {
   "cell_type": "markdown",
   "metadata": {},
   "source": [
    "## TestingUpper-Confidence-Bound Action Selection\n",
    "Figure 2.4"
   ]
  },
  {
   "cell_type": "code",
   "execution_count": null,
   "metadata": {},
   "outputs": [],
   "source": [
    "n_jobs=3\n",
    "verbose=0\n",
    "runs=2000\n",
    "epochs=1000\n",
    "k_arms=10\n",
    "\n",
    "def run_bandit(bandit,epochs=10000,  runs=2000, n_jobs=4, verbose=1):\n",
    "    \n",
    "    list_of_runs = Parallel(n_jobs=n_jobs, verbose=verbose)(\n",
    "        delayed(bandit.simulate)(epochs=epochs)\n",
    "        for _ in range(runs))\n",
    "    return np.array(list_of_runs)\n",
    "\n",
    "\n",
    "\n",
    "b1= KArmedBandit(k_arms=k_arms, use_UBC=True, UBC_param=2,)\n",
    "results_b1 =  run_bandit(bandit=b1, epochs=epochs, runs=runs, n_jobs=n_jobs, verbose=verbose)\n",
    "\n",
    "b2= KArmedBandit(k_arms=k_arms, epsilon=0.1)\n",
    "results_b2 =  run_bandit(bandit=b2,epochs=epochs, runs=runs, n_jobs=n_jobs, verbose=verbose)\n",
    "\n",
    "plt.figure(figsize=(15, 10))\n",
    "plt.plot(results_b1[:,:,0].mean(axis=0), label='UCB c = 2')\n",
    "plt.plot(results_b2[:,:,0].mean(axis=0), label='epsilon greedy epsilon = 0.1')\n",
    "\n",
    "plt.xlabel('Steps')\n",
    "plt.ylabel('Average Rewars')\n",
    "plt.legend()\n"
   ]
  },
  {
   "cell_type": "markdown",
   "metadata": {},
   "source": [
    "## Testing Gradient Bandit Algorithms\n",
    "Figure 2.5"
   ]
  },
  {
   "cell_type": "code",
   "execution_count": null,
   "metadata": {},
   "outputs": [],
   "source": [
    "n_jobs=3\n",
    "verbose=0\n",
    "runs=2000\n",
    "epochs=1000\n",
    "k_arms=10\n",
    "\n",
    "def run_bandit(bandit,epochs=10000,  runs=2000, n_jobs=4, verbose=1):\n",
    "    \n",
    "    list_of_runs = Parallel(n_jobs=n_jobs, verbose=verbose)(\n",
    "        delayed(bandit.simulate)(epochs=epochs)\n",
    "        for _ in range(runs))\n",
    "    return np.array(list_of_runs)\n",
    "\n",
    "\n",
    "\n",
    "b1= KArmedBandit(k_arms=k_arms, use_gradient=True, use_baseline_gradient=True, alpha=0.1,  true_reward=4)\n",
    "results_b1 =  run_bandit(bandit=b1,epochs=epochs, runs=runs, n_jobs=n_jobs, verbose=verbose)\n",
    "\n",
    "b2= KArmedBandit(k_arms=k_arms, use_gradient=True, use_baseline_gradient=True, alpha=0.4,  true_reward=4)\n",
    "results_b2 =  run_bandit(bandit=b2,epochs=epochs, runs=runs, n_jobs=n_jobs, verbose=verbose)\n",
    "\n",
    "b3= KArmedBandit(k_arms=k_arms, use_gradient=True, use_baseline_gradient=False, alpha=0.1,  true_reward=4)\n",
    "results_b3 =  run_bandit(bandit=b3,epochs=epochs, runs=runs, n_jobs=n_jobs, verbose=verbose)\n",
    "\n",
    "b4= KArmedBandit(k_arms=k_arms, use_gradient=True, use_baseline_gradient=False, alpha=0.4,  true_reward=4)\n",
    "results_b4 =  run_bandit(bandit=b4,epochs=epochs, runs=runs, n_jobs=n_jobs, verbose=verbose)\n",
    "\n",
    "\n",
    "plt.figure(figsize=(15, 10))\n",
    "plt.plot(results_b1[:,:,1].mean(axis=0), label='alpha = 0.1, with baseline')\n",
    "plt.plot(results_b2[:,:,1].mean(axis=0), label='alpha = 0.4, with baseline')\n",
    "plt.plot(results_b3[:,:,1].mean(axis=0), label='alpha = 0.1, without baseline')\n",
    "plt.plot(results_b4[:,:,1].mean(axis=0), label='alpha = 0.4, without baseline')\n",
    "\n",
    "plt.xlabel('Steps')\n",
    "plt.ylabel('Optimal action')\n",
    "plt.legend()"
   ]
  },
  {
   "cell_type": "code",
   "execution_count": null,
   "metadata": {},
   "outputs": [],
   "source": []
  },
  {
   "cell_type": "code",
   "execution_count": null,
   "metadata": {},
   "outputs": [],
   "source": []
  }
 ],
 "metadata": {
  "kernelspec": {
   "display_name": "Python [default]",
   "language": "python",
   "name": "python3"
  },
  "language_info": {
   "codemirror_mode": {
    "name": "ipython",
    "version": 3
   },
   "file_extension": ".py",
   "mimetype": "text/x-python",
   "name": "python",
   "nbconvert_exporter": "python",
   "pygments_lexer": "ipython3",
   "version": "3.6.1"
  }
 },
 "nbformat": 4,
 "nbformat_minor": 2
}
